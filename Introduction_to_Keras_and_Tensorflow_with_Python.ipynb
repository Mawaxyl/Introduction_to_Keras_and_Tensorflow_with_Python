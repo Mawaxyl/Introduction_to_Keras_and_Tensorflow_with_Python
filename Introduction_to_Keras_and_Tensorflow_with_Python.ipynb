{
  "nbformat": 4,
  "nbformat_minor": 0,
  "metadata": {
    "colab": {
      "name": "Introduction to Keras and Tensorflow with Python.ipynb",
      "provenance": [],
      "collapsed_sections": [],
      "authorship_tag": "ABX9TyOKqX+RYUdbBCxMDlb9YDxv",
      "include_colab_link": true
    },
    "kernelspec": {
      "name": "python3",
      "display_name": "Python 3"
    }
  },
  "cells": [
    {
      "cell_type": "markdown",
      "metadata": {
        "id": "view-in-github",
        "colab_type": "text"
      },
      "source": [
        "<a href=\"https://colab.research.google.com/github/Mawaxyl/Introduction_to_Keras_and_Tensorflow_with_Python/blob/main/Introduction_to_Keras_and_Tensorflow_with_Python.ipynb\" target=\"_parent\"><img src=\"https://colab.research.google.com/assets/colab-badge.svg\" alt=\"Open In Colab\"/></a>"
      ]
    },
    {
      "cell_type": "markdown",
      "metadata": {
        "id": "cl5kNF3LiCzm"
      },
      "source": [
        "We will use the MNIST dataset to explain the concepts in the module. MNIST is a large database of handwritten digits commonly used in training and testing image processing systems. The image dimensions are 28x28 numpy arrays. Now let us import the images and prepare our dataset."
      ]
    },
    {
      "cell_type": "markdown",
      "metadata": {
        "id": "EYy0QvlfiApY"
      },
      "source": [
        ""
      ]
    },
    {
      "cell_type": "code",
      "metadata": {
        "id": "t-ubXPu2DrTI"
      },
      "source": [
        "import numpy as np\n",
        "import matplotlib.pyplot as plt\n",
        "import tensorflow as tf\n",
        "from tensorflow import keras"
      ],
      "execution_count": null,
      "outputs": []
    },
    {
      "cell_type": "code",
      "metadata": {
        "id": "ARvoPlWJKQYk",
        "outputId": "6980d620-e61e-43fd-82b0-5c269efcb39b",
        "colab": {
          "base_uri": "https://localhost:8080/",
          "height": 51
        }
      },
      "source": [
        "mnist = keras.datasets.mnist\n",
        "(train_images, train_labels), (test_images, test_labels) = mnist.load_data()"
      ],
      "execution_count": null,
      "outputs": [
        {
          "output_type": "stream",
          "text": [
            "Downloading data from https://storage.googleapis.com/tensorflow/tf-keras-datasets/mnist.npz\n",
            "11493376/11490434 [==============================] - 0s 0us/step\n"
          ],
          "name": "stdout"
        }
      ]
    },
    {
      "cell_type": "code",
      "metadata": {
        "id": "Mi_-HliPLzgW",
        "outputId": "b19bd06e-c367-4fb7-95a2-8e72ed502122",
        "colab": {
          "base_uri": "https://localhost:8080/",
          "height": 34
        }
      },
      "source": [
        "print(\"Training data: {} {}\".format(train_images.shape, train_labels.shape))"
      ],
      "execution_count": null,
      "outputs": [
        {
          "output_type": "stream",
          "text": [
            "Training data: (60000, 28, 28) (60000,)\n"
          ],
          "name": "stdout"
        }
      ]
    },
    {
      "cell_type": "code",
      "metadata": {
        "id": "cXvXc61moV48",
        "outputId": "2d7cf42a-6ef2-4403-d4d9-143f630500bd",
        "colab": {
          "base_uri": "https://localhost:8080/",
          "height": 34
        }
      },
      "source": [
        "print(\"Test data: {}, {}\".format(test_images.shape, test_labels.shape))"
      ],
      "execution_count": null,
      "outputs": [
        {
          "output_type": "stream",
          "text": [
            "Test data: (10000, 28, 28), (10000,)\n"
          ],
          "name": "stdout"
        }
      ]
    },
    {
      "cell_type": "code",
      "metadata": {
        "id": "fU73Ut5qpnWB",
        "outputId": "d6e6033d-b4cb-4404-9548-684d30d73b49",
        "colab": {
          "base_uri": "https://localhost:8080/",
          "height": 34
        }
      },
      "source": [
        "class_labels = np.unique(train_labels)\n",
        "print(\"There are {} classes in the dataset. They are: {}\".format(len(class_labels), class_labels))"
      ],
      "execution_count": null,
      "outputs": [
        {
          "output_type": "stream",
          "text": [
            "There are 10 classes in the dataset. They are: [0 1 2 3 4 5 6 7 8 9]\n"
          ],
          "name": "stdout"
        }
      ]
    },
    {
      "cell_type": "code",
      "metadata": {
        "id": "S11SYHFhqnQO",
        "outputId": "c73ef4e1-162c-42fe-c5d5-b1a92744cd0d",
        "colab": {
          "base_uri": "https://localhost:8080/",
          "height": 51
        }
      },
      "source": [
        "plt.figure(figsize = (8, 5))"
      ],
      "execution_count": null,
      "outputs": [
        {
          "output_type": "execute_result",
          "data": {
            "text/plain": [
              "<Figure size 576x360 with 0 Axes>"
            ]
          },
          "metadata": {
            "tags": []
          },
          "execution_count": 7
        },
        {
          "output_type": "display_data",
          "data": {
            "text/plain": [
              "<Figure size 576x360 with 0 Axes>"
            ]
          },
          "metadata": {
            "tags": []
          }
        }
      ]
    },
    {
      "cell_type": "code",
      "metadata": {
        "id": "ehwViNVMrS-z",
        "outputId": "49b18154-11fe-4d94-89b4-a5b06dbdcd31",
        "colab": {
          "base_uri": "https://localhost:8080/",
          "height": 179
        }
      },
      "source": [
        "plt.subplot(1, 3, 1)\n",
        "plt.imshow(train_images[0])\n",
        "plt.title(\"Label: {}\".format(train_labels[0]))"
      ],
      "execution_count": null,
      "outputs": [
        {
          "output_type": "execute_result",
          "data": {
            "text/plain": [
              "Text(0.5, 1.0, 'Label: 5')"
            ]
          },
          "metadata": {
            "tags": []
          },
          "execution_count": 8
        },
        {
          "output_type": "display_data",
          "data": {
            "image/png": "[encoded data removed]",
            "text/plain": [
              "<Figure size 432x288 with 1 Axes>"
            ]
          },
          "metadata": {
            "tags": [],
            "needs_background": "light"
          }
        }
      ]
    },
    {
      "cell_type": "code",
      "metadata": {
        "id": "II3-jbYxr5fI",
        "outputId": "26c693d5-c591-440b-e1db-acca4a252d7c",
        "colab": {
          "base_uri": "https://localhost:8080/",
          "height": 179
        }
      },
      "source": [
        "plt.subplot(1, 3, 2)\n",
        "plt.imshow(train_images[2500])\n",
        "plt.title(\"Label: {}\".format(train_labels[2500]))"
      ],
      "execution_count": null,
      "outputs": [
        {
          "output_type": "execute_result",
          "data": {
            "text/plain": [
              "Text(0.5, 1.0, 'Label: 0')"
            ]
          },
          "metadata": {
            "tags": []
          },
          "execution_count": 9
        },
        {
          "output_type": "display_data",
          "data": {
            "image/png": "[encoded data removed]",
            "text/plain": [
              "<Figure size 432x288 with 1 Axes>"
            ]
          },
          "metadata": {
            "tags": [],
            "needs_background": "light"
          }
        }
      ]
    },
    {
      "cell_type": "code",
      "metadata": {
        "id": "gS09wqsUsPgL",
        "outputId": "d699f9e7-07f4-4096-d89e-dd67beb4f578",
        "colab": {
          "base_uri": "https://localhost:8080/",
          "height": 166
        }
      },
      "source": [
        "plt.subplot(1, 3, 3)\n",
        "plt.imshow(test_images[12])"
      ],
      "execution_count": null,
      "outputs": [
        {
          "output_type": "execute_result",
          "data": {
            "text/plain": [
              "<matplotlib.image.AxesImage at 0x7f2f1ab006a0>"
            ]
          },
          "metadata": {
            "tags": []
          },
          "execution_count": 10
        },
        {
          "output_type": "display_data",
          "data": {
            "image/png": "[encoded data removed]",
            "text/plain": [
              "<Figure size 432x288 with 1 Axes>"
            ]
          },
          "metadata": {
            "tags": [],
            "needs_background": "light"
          }
        }
      ]
    },
    {
      "cell_type": "code",
      "metadata": {
        "id": "IuXhkcwAsrXd"
      },
      "source": [
        "plt.show()"
      ],
      "execution_count": null,
      "outputs": []
    },
    {
      "cell_type": "code",
      "metadata": {
        "id": "9oLxbyJ0suyw"
      },
      "source": [
        "#As usual, we scale our dataset to range between 0 and 1. In this dataset, the pixel values range from 0 to 255\n",
        "# Divivding the data by 255 scales to the required range\n",
        "\n",
        "train_images = train_images / 255.0\n",
        "test_images = test_images / 255.0"
      ],
      "execution_count": null,
      "outputs": []
    },
    {
      "cell_type": "code",
      "metadata": {
        "id": "JSu3r22Avyr6"
      },
      "source": [
        "# Split training data to training and validation sets.\n",
        "x_train = train_images[0:50000]\n",
        "x_val = train_images[50000:]\n",
        "y_train = train_labels[0:50000]\n",
        "y_val = train_labels[50000:]"
      ],
      "execution_count": null,
      "outputs": []
    },
    {
      "cell_type": "code",
      "metadata": {
        "id": "oyEp9Bv1xEJK",
        "outputId": "bfc6b651-0fb6-4e3c-cd3d-e3c5d0d203ac",
        "colab": {
          "base_uri": "https://localhost:8080/",
          "height": 85
        }
      },
      "source": [
        "print(\"x_train: {}\".format(x_train.shape))\n",
        "print(\"x_val: {}\".format(x_val.shape))\n",
        "print(\"y_train: {}\".format(y_train.shape))\n",
        "print(\"y_val: {}\".format(y_val.shape))"
      ],
      "execution_count": null,
      "outputs": [
        {
          "output_type": "stream",
          "text": [
            "x_train: (50000, 28, 28)\n",
            "x_val: (10000, 28, 28)\n",
            "y_train: (50000,)\n",
            "y_val: (10000,)\n"
          ],
          "name": "stdout"
        }
      ]
    },
    {
      "cell_type": "code",
      "metadata": {
        "id": "qEQj9foExexx"
      },
      "source": [
        "# Reshape data from 28 * 28 array to a single array\n",
        "new_dimension = np.prod(train_images.shape[1:])\n",
        "x_train = x_train.reshape(x_train.shape[0], new_dimension)\n",
        "x_val = x_val.reshape(x_val.shape[0], new_dimension)\n",
        "test_images = test_images.reshape(test_images.shape[0], new_dimension)"
      ],
      "execution_count": null,
      "outputs": []
    },
    {
      "cell_type": "code",
      "metadata": {
        "id": "hG4Y4aO3yuZR",
        "outputId": "860b6f2a-c336-47e9-dcee-610ee8d4a5e0",
        "colab": {
          "base_uri": "https://localhost:8080/",
          "height": 68
        }
      },
      "source": [
        "print(\"x_train: {}\".format(x_train.shape))\n",
        "print(\"x_val: {}\".format(x_val.shape))\n",
        "print(\"test_images: {}\".format(test_images.shape))"
      ],
      "execution_count": null,
      "outputs": [
        {
          "output_type": "stream",
          "text": [
            "x_train: (50000, 784)\n",
            "x_val: (10000, 784)\n",
            "test_images: (10000, 784)\n"
          ],
          "name": "stdout"
        }
      ]
    },
    {
      "cell_type": "code",
      "metadata": {
        "id": "nJNNXIJyzS4G"
      },
      "source": [
        "#Encode labels to categorical variables\n",
        "from tensorflow.keras.utils import to_categorical\n",
        "no_labels = 10\n",
        "y_train = to_categorical(y_train, no_labels)\n",
        "y_val = to_categorical(y_val, no_labels)\n",
        "y_test = to_categorical(test_labels, no_labels)"
      ],
      "execution_count": null,
      "outputs": []
    },
    {
      "cell_type": "markdown",
      "metadata": {
        "id": "wg32SHvoe4Pm"
      },
      "source": [
        "**Multilayer perceptron**\n",
        "\n",
        "A perceptron is a supervised learning algorithm for binary classifiers that separates an input into two classes by learning linearly separable patterns. It is a single layer neural network that multiplies input feature vectors by their weights, creates a weighted sum by summing these products, then adds a bias and applies an activation function to give the final output. Perceptrons are unable to solve complex problems that are not linearly separable.\n",
        "\n",
        "\n",
        "\n",
        "The MultiLayer Perceptron (MLP) is a network of connected perceptrons stacked in layers with several hidden layers in between the input and output layers. When there’s a single hidden layer, MLPs are referred to as vanilla neural networks. MLPs are feedforward neural networks where information is transferred in the forward direction from the input layer to the output layer. The input data to the network is fed to the input layer, computations are performed on the data in the hidden layers, and meaningful results returned in the output layer. The importance of the connections between layers is specified by the weights assigned.\n",
        "\n",
        "\n",
        "**Backpropagation and its Derivative**\n",
        "\n",
        "Backpropagation is the method of traversing the neural network in reverse (right to left) in order to obtain the gradient of neural network parameters with respect to a loss function. It is an iterative way of updating the weights in the network to get better predictions using a form of gradient descent until the minimum of the loss function is obtained. Different loss functions can be selected for various tasks. The loss is reduced in a controlled manner by taking small steps from the starting point to the final point which is the lowest possible point. The derivative of the loss function provides information on which direction to take when traversing. The weight can be updated using gradient descent which we will discuss later.\n",
        "\n",
        "Simply put, backpropagation involves calculating the sum of errors in the network to obtain the loss function, and the partial derivative of the loss function with respect to individual weights. It also uses gradient descent to update the weights.\n",
        "\n",
        "**Activation functions and Neural Networks Hyperparameters**\n",
        "\n",
        "Activation functions introduce nonlinearity into the output of a neuron in a network to determine the output. This nonlinearity allows for the network to learn complex relationships between the input and response variables. Without activation functions in an artificial neural network, there will only be linear transformations on the input. The non-linear functions also allow for backpropagation because the gradients are obtained by derivatives of the functions and are used in updating weights. Some activation functions commonly used include sigmoid, tanh, relu, softmax, leaky relu and many others. When training the neural network, it is important to select the appropriate hyperparameters to improve the performance of the model. These are some of the hyperparameters:\n",
        "\n",
        "***Hidden layers:*** this is a measure of the learning capacity of the model. The more hidden layers of neurons present in the network, the better the learning capacity of the model. When too many layers than necessary are provided in a model, there is a tendency for overfitting to occur.\n",
        "\n",
        "***Learning rate:*** this controls how fast the model weights are updated before reaching optimal values. It will take the model a long time to reach the desired weights with a very small learning rate. In contrast, if the learning rate is much higher, the model might overshoot,pass the optimal point, and prevent convergence of the algorithm. This rate is how fast gradient descent is performed for backpropagation.\n",
        "\n",
        "***Dropout:*** this is used to shut a percentage of the neurons in the network to prevent overfitting.\n",
        "\n",
        "***Batch size:*** the number of data samples that can be propagated through the network before weights are updated. This is important in breaking up huge datasets into sizable batches to manage resources. This means that there are 10 batches for a dataset with 1000 samples and a batch size of 100.\n",
        "\n",
        "***Epoch:*** it is the number of cycles that the learning algorithm goes through the entire dataset. When all batches are fed once, an epoch is completed."
      ]
    },
    {
      "cell_type": "code",
      "metadata": {
        "id": "jzBHd3TnkvvO",
        "outputId": "85683bec-2689-4edc-b306-05f861575f2b",
        "colab": {
          "base_uri": "https://localhost:8080/",
          "height": 88
        }
      },
      "source": [
        "import tensorflow.compat.v1 as tf\n",
        "tf.disable_v2_behavior()"
      ],
      "execution_count": null,
      "outputs": [
        {
          "output_type": "stream",
          "text": [
            "WARNING:tensorflow:From /usr/local/lib/python3.6/dist-packages/tensorflow/python/compat/v2_compat.py:96: disable_resource_variables (from tensorflow.python.ops.variable_scope) is deprecated and will be removed in a future version.\n",
            "Instructions for updating:\n",
            "non-resource variables are not supported in the long term\n"
          ],
          "name": "stdout"
        }
      ]
    },
    {
      "cell_type": "code",
      "metadata": {
        "id": "xmXivda_0Grt"
      },
      "source": [
        "#input\n",
        "#placeholder are not enabled in tf 2\n",
        "X = tf.placeholder(tf.float32, [None, new_dimension])\n",
        "Y = tf.placeholder(tf.float32, [None, no_labels])"
      ],
      "execution_count": null,
      "outputs": []
    },
    {
      "cell_type": "code",
      "metadata": {
        "id": "pzHBflR6kPxc"
      },
      "source": [
        "#create new model architecture\n",
        "def multilayer_perception(x, no_classes, first_layer_neurons=256, second_layer_neurons=128):\n",
        "  #first layer\n",
        "  first_weight = tf.Variable(tf.random_uniform([new_dimension, first_layer_neurons]))\n",
        "  first_bias = tf.Variable(tf.zeros([first_layer_neurons]))\n",
        "  first_layer_output = tf.nn.relu(tf.add(tf.matmul(x, first_weight), first_bias))\n",
        "\n",
        "  #second layer\n",
        "  second_weight = tf.Variable(tf.random_uniform([first_layer_neurons, second_layer_neurons]))\n",
        "  second_bias = tf.Variable(tf.zeros([second_layer_neurons]))\n",
        "  second_layer_output = tf.nn.relu(tf.add(tf.matmul(first_layer_output, second_weight), second_bias))\n",
        "\n",
        "  #output layer\n",
        "  final_weight = tf.Variable(tf.random_uniform([second_layer_neurons, no_classes]))\n",
        "  final_bias = tf.Variable(tf.zeros([no_classes]))\n",
        "  logits = tf.add(tf.matmul(second_layer_output, final_weight), final_bias)\n",
        "\n",
        "  return logits"
      ],
      "execution_count": null,
      "outputs": []
    },
    {
      "cell_type": "code",
      "metadata": {
        "id": "-unyhnmAoJk0"
      },
      "source": [
        "logits = multilayer_perception(X, no_labels)"
      ],
      "execution_count": null,
      "outputs": []
    },
    {
      "cell_type": "code",
      "metadata": {
        "id": "1lMg476ToTGq",
        "outputId": "bce4200e-b71e-442f-defe-7992ea9881be",
        "colab": {
          "base_uri": "https://localhost:8080/",
          "height": 173
        }
      },
      "source": [
        "learning_rate = 0.01\n",
        "#we define the loss and optimiser for the network\n",
        "loss_op = tf.reduce_mean(tf.nn.softmax_cross_entropy_with_logits(logits=logits, labels=Y))\n",
        "optimiser = tf.train.AdamOptimizer(learning_rate=learning_rate)\n",
        "train_op = optimiser.minimize(loss_op)"
      ],
      "execution_count": null,
      "outputs": [
        {
          "output_type": "stream",
          "text": [
            "WARNING:tensorflow:From /usr/local/lib/python3.6/dist-packages/tensorflow/python/util/dispatch.py:201: softmax_cross_entropy_with_logits (from tensorflow.python.ops.nn_ops) is deprecated and will be removed in a future version.\n",
            "Instructions for updating:\n",
            "\n",
            "Future major versions of TensorFlow will allow gradients to flow\n",
            "into the labels input on backprop by default.\n",
            "\n",
            "See `tf.nn.softmax_cross_entropy_with_logits_v2`.\n",
            "\n"
          ],
          "name": "stdout"
        }
      ]
    },
    {
      "cell_type": "code",
      "metadata": {
        "id": "kikv5XWEpJv7"
      },
      "source": [
        "#initialize the variables\n",
        "init = tf.global_variables_initializer()"
      ],
      "execution_count": null,
      "outputs": []
    },
    {
      "cell_type": "code",
      "metadata": {
        "id": "OlYFwdwjpYlp"
      },
      "source": [
        "epochs = 20\n",
        "batch_size = 1000\n",
        "iteration = len(x_train) // batch_size"
      ],
      "execution_count": null,
      "outputs": []
    },
    {
      "cell_type": "code",
      "metadata": {
        "id": "SGVMPUb3pmEI",
        "outputId": "52e1d4f9-8e70-45b5-8e09-5441f69b11f8",
        "colab": {
          "base_uri": "https://localhost:8080/",
          "height": 374
        }
      },
      "source": [
        "#train model\n",
        "with tf.Session() as session:\n",
        "  session.run(init)\n",
        "  for epoch in range(epochs):\n",
        "    average_cost = 0\n",
        "    start, end = 0, batch_size\n",
        "\n",
        "    for i in range(iteration):\n",
        "      batch_x, batch_y = x_train[start: end], y_train[start: end]\n",
        "      _, loss = session.run([train_op, loss_op], feed_dict={X: batch_x, Y: batch_y})\n",
        "      start += batch_size\n",
        "      end += batch_size\n",
        "      #average loss\n",
        "      average_cost += loss/iteration\n",
        "    print(\"Epoch========{}\".format(epoch))\n",
        "\n",
        "  #evaluate model\n",
        "  prediction = tf.nn.softmax(logits)\n",
        "  ground_truth = tf.equal(tf.argmax(prediction, 1), tf.argmax(Y, 1))\n",
        "  accuracy = tf.reduce_mean(tf.cast(ground_truth, \"float\"))\n",
        "  print(\"Accuracy: {}\".format(accuracy.eval({X: test_images, Y: y_test})))"
      ],
      "execution_count": null,
      "outputs": [
        {
          "output_type": "stream",
          "text": [
            "Epoch========0\n",
            "Epoch========1\n",
            "Epoch========2\n",
            "Epoch========3\n",
            "Epoch========4\n",
            "Epoch========5\n",
            "Epoch========6\n",
            "Epoch========7\n",
            "Epoch========8\n",
            "Epoch========9\n",
            "Epoch========10\n",
            "Epoch========11\n",
            "Epoch========12\n",
            "Epoch========13\n",
            "Epoch========14\n",
            "Epoch========15\n",
            "Epoch========16\n",
            "Epoch========17\n",
            "Epoch========18\n",
            "Epoch========19\n",
            "Accuracy: 0.9158999919891357\n"
          ],
          "name": "stdout"
        }
      ]
    },
    {
      "cell_type": "markdown",
      "metadata": {
        "id": "TWzgVcuEi0Ev"
      },
      "source": [
        "**Common Regularization for Deep Learning**\n",
        "\n",
        "In previous modules, we have discussed regularisation and how it prevents overfitting in models. In deep learning, models are also susceptible to overfitting. As a result, different techniques have been developed to prevent overfitting. ***L1 & L2 regularization, dropout, data augmentation, and early stopping*** are some regularization methods.\n",
        "\n",
        "**Dropout:** this is a frequently used technique in deep learning where units are ignored or dropped out in a neural network. A percentage of the neurons on each layer in the network are randomly selected and ignored, such that they do not make any contribution in the forward and backward pass. This automatically results in a much smaller network, where the neurons left are required to handle the representations that would have been used for predictions by the missing neurons, through the learning of more robust features. This process improves the generalization capabilities of the network, and reduces overfitting on the training data.\n",
        "\n",
        "**Data augmentation:** training the model on a larger dataset is another way to prevent overfitting. Data augmentation involves increasing the size of the training set by introducing minor changes like rotating, cropping, flipping, translating, and blurring to generate synthetic data from the dataset.\n",
        "\n",
        "**Early stopping:** when a model is trained for a longer period such that the validation error starts to increase, overfitting is said to occur. In early stopping, while fitting the model on the training data and evaluating on the validation set, when the validation error stops reducing or gets worse, the training process is terminated before the lowest training error is obtained, to prevent overfitting.\n",
        "\n",
        "**Optimisation for Training Deep Neural Networks**\n",
        "\n",
        "When solving deep learning problems, a loss function is defined to minimize loss using an **optimization algorithm** like **gradient descent, gradient descent with momentum, Adagrad, RMSProp, Adam, and others**. While there are several optimisation algorithms, there are also some challenges such as local minima, saddle points, vanishing gradients, etc, faced in deep learning optimisation.\n",
        "\n",
        "**Local Minima:** neural networks aim to continue updating weights until the global minimum (the lowest point of the entire network) is attained. Local minima refers to the lowest points of localised portions of a graph. The value of a loss function is minimal at a point in the local region. It is possible for the function to be stuck at a local minimum because it is the best point in that locality, which makes it difficult to reach the global minimum where the lowest loss can be achieved.\n",
        "\n",
        "**Vanishing Gradients:** this is a problem that occurs when training a network using gradient descent methods. Vanishing gradients make it difficult to update the weights in the earlier layers of the network, and worsens as the number of layers increases. As we know, with gradient descent, the gradient controls how much learning happens in the network during training. While backpropagating in deep neural networks, the gradients tend to get smaller, and with small gradients little or no learning is done, hence, resulting in poor performance of models.\n",
        "\n",
        "Although we have only discussed some of the challenges in deep learning optimisation at a high level, we will now discuss some optimisation algorithms.\n",
        "\n",
        "**Gradient Descent:** this is a common and established optimisation algorithm used to obtain the minimum of an objective function J using the negative of the gradient to continuously move towards the steepest point. It can be likened to finding the lowest point of a mountain. Gradient descent can be summed up in the equation below:\n",
        "\n",
        "\n",
        "**Batch gradient descent**, **stochastic gradient descent**, and **mini-batch gradient descent** are the three variants of gradient descent. Which variant would be used is determined by the size of data available.\n",
        "\n",
        "\n",
        "***Batch gradient descent*** computes the gradient of the cost function with the entire training set. ***Stochastic gradient descent (SDG)*** uses each sample in the training set to perform updates at a time. It is faster than ***batch gradient descent***. ***Mini-batch gradient descent*** combines the logic of other variants by using only mini-batches of training examples to update weights. It allows for a stable convergence, because the variance of the parameter updates are also reduced.\n",
        "\n",
        "**Gradient Descent with Momentum:** similar to gradient descent, the addition of momentum to the algorithm helps speed up convergence, by accelerating the gradient vectors in the right direction. With gradient descent, movement is not always in the optimal direction. However, gradient descent with momentum oscillates in the right direction, by considering past gradients, and computing exponentially weighted averages of the gradients which are used to update the weights.\n",
        "\n",
        "**Adagrad - Adaptive Gradients:** adagrad changes the learning rate for every update by tracking the sum of gradient squared, and uses it to adjust the gradients in the right direction. Larger updates are performed for infrequent parameters with high learning rates, while smaller updates are performed for frequent parameters with low learning rates. This can be interpreted thus; “the more a parameter is updated, the less updates are required for the parameter in future updates, to allow for the updates of other parameters”. This makes it a suitable choice for sparse data.\n",
        "\n",
        "**RMSProp - Root Mean Square Propagation:** though similar to Adagrad, RMSProp provides an exponentially decaying average as opposed to the sum of the gradients by Adagrad. It changes the learning rate slower and converges faster than Adagrad, by using a decay rate to consider the gradients of recent time steps.\n",
        "\n",
        "**Adam - Adaptive Moment Estimation:** this algorithm uses the first and second moments of gradients while adapting the learning rate for each weight of the neural network. It can be likened to RMSProp with momentum such that exponential moving averages of gradients are calculated then squared. It also benefits from the advantages of Adagrad in that it works well with sparse gradients."
      ]
    },
    {
      "cell_type": "markdown",
      "metadata": {
        "id": "nNzFQo_0myDF"
      },
      "source": [
        "**Optimization for training deep neural networks**"
      ]
    },
    {
      "cell_type": "code",
      "metadata": {
        "id": "9dd3i_ask_0N"
      },
      "source": [
        "#Building a Sequential Feed Forward Network in Keras\n",
        "\n",
        "from tensorflow.keras.layers import Dense\n",
        "from tensorflow.keras.models import Sequential\n",
        "#Build the model object\n",
        "model = Sequential()\n",
        "# Build the input and the hidden layers\n",
        "model.add(Dense(256, activation='relu', input_shape=(new_dimension,)))\n",
        "model.add(Dense(128, activation='relu'))\n",
        "# Build the output layer\n",
        "model.add(Dense(no_labels, activation='softmax'))"
      ],
      "execution_count": null,
      "outputs": []
    },
    {
      "cell_type": "markdown",
      "metadata": {
        "id": "SvBompwSmqjY"
      },
      "source": [
        "Now that the model is in place, we configure the learning process using .compile(). Here we specify our loss function (or objective function). For our setting categorical cross entropy fits the bill, but in general other loss functions are available.\n",
        "\n",
        "As for the optimizer of choice we'll use Adam with default settings. We could also instantiate an optimizer and set parameters before passing it to model.compile() but for this example the defaults will do.\n",
        "\n",
        "We also choose which metrics will be evaluated during training and testing. We can pass any list of metrics - even build metrics ourselves - and have them displayed during training/testing."
      ]
    },
    {
      "cell_type": "code",
      "metadata": {
        "id": "FcJoQcwHo1wz"
      },
      "source": [
        "model.compile(optimizer='adam', loss=tf.keras.losses.categorical_crossentropy, \n",
        "              metrics=['accuracy'])"
      ],
      "execution_count": null,
      "outputs": []
    },
    {
      "cell_type": "markdown",
      "metadata": {
        "id": "mHdjastapSj3"
      },
      "source": [
        "Having compiled our model we can now start the training process. We have to specify how many times we want to iterate on the whole training set (epochs) and how many samples we use for one update to the model's weights (batch size)."
      ]
    },
    {
      "cell_type": "code",
      "metadata": {
        "id": "m0yStceDpFCW",
        "outputId": "14f94e5b-f391-447a-d6ac-a5b936a460eb",
        "colab": {
          "base_uri": "https://localhost:8080/",
          "height": 819
        }
      },
      "source": [
        "history = model.fit(x_train, y_train, validation_data=(x_val, y_val), epochs=20, batch_size=1000)\n",
        "\n",
        "test_loss, test_accuracy = model.evaluate(test_images, y_test)\n",
        "print('Test loss: {}'.format(test_loss))\n",
        "print('Test accuracy: {}'.format(test_accuracy))"
      ],
      "execution_count": null,
      "outputs": [
        {
          "output_type": "stream",
          "text": [
            "Train on 50000 samples, validate on 10000 samples\n",
            "Epoch 1/20\n",
            "49000/50000 [============================>.] - ETA: 0s - loss: 0.6629 - acc: 0.8264WARNING:tensorflow:From /usr/local/lib/python3.6/dist-packages/tensorflow/python/keras/engine/training_v1.py:2048: Model.state_updates (from tensorflow.python.keras.engine.training) is deprecated and will be removed in a future version.\n",
            "Instructions for updating:\n",
            "This property should not be used in TensorFlow 2.0, as updates are applied automatically.\n",
            "50000/50000 [==============================] - 1s 29us/sample - loss: 0.6557 - acc: 0.8283 - val_loss: 0.2534 - val_acc: 0.9249\n",
            "Epoch 2/20\n",
            "50000/50000 [==============================] - 1s 29us/sample - loss: 0.2318 - acc: 0.9334 - val_loss: 0.1859 - val_acc: 0.9483\n",
            "Epoch 3/20\n",
            "50000/50000 [==============================] - 1s 29us/sample - loss: 0.1722 - acc: 0.9503 - val_loss: 0.1509 - val_acc: 0.9579\n",
            "Epoch 4/20\n",
            "50000/50000 [==============================] - 1s 29us/sample - loss: 0.1344 - acc: 0.9613 - val_loss: 0.1269 - val_acc: 0.9641\n",
            "Epoch 5/20\n",
            "50000/50000 [==============================] - 1s 28us/sample - loss: 0.1097 - acc: 0.9686 - val_loss: 0.1135 - val_acc: 0.9664\n",
            "Epoch 6/20\n",
            "50000/50000 [==============================] - 1s 28us/sample - loss: 0.0924 - acc: 0.9738 - val_loss: 0.0994 - val_acc: 0.9715\n",
            "Epoch 7/20\n",
            "50000/50000 [==============================] - 1s 28us/sample - loss: 0.0758 - acc: 0.9789 - val_loss: 0.0990 - val_acc: 0.9702\n",
            "Epoch 8/20\n",
            "50000/50000 [==============================] - 1s 29us/sample - loss: 0.0631 - acc: 0.9826 - val_loss: 0.0926 - val_acc: 0.9731\n",
            "Epoch 9/20\n",
            "50000/50000 [==============================] - 1s 28us/sample - loss: 0.0543 - acc: 0.9849 - val_loss: 0.0868 - val_acc: 0.9739\n",
            "Epoch 10/20\n",
            "50000/50000 [==============================] - 1s 29us/sample - loss: 0.0461 - acc: 0.9871 - val_loss: 0.0816 - val_acc: 0.9756\n",
            "Epoch 11/20\n",
            "50000/50000 [==============================] - 1s 29us/sample - loss: 0.0400 - acc: 0.9892 - val_loss: 0.0839 - val_acc: 0.9747\n",
            "Epoch 12/20\n",
            "50000/50000 [==============================] - 1s 29us/sample - loss: 0.0344 - acc: 0.9909 - val_loss: 0.0790 - val_acc: 0.9765\n",
            "Epoch 13/20\n",
            "50000/50000 [==============================] - 1s 28us/sample - loss: 0.0281 - acc: 0.9934 - val_loss: 0.0775 - val_acc: 0.9776\n",
            "Epoch 14/20\n",
            "50000/50000 [==============================] - 1s 29us/sample - loss: 0.0236 - acc: 0.9949 - val_loss: 0.0756 - val_acc: 0.9774\n",
            "Epoch 15/20\n",
            "50000/50000 [==============================] - 1s 28us/sample - loss: 0.0208 - acc: 0.9958 - val_loss: 0.0772 - val_acc: 0.9779\n",
            "Epoch 16/20\n",
            "50000/50000 [==============================] - 1s 28us/sample - loss: 0.0179 - acc: 0.9965 - val_loss: 0.0768 - val_acc: 0.9786\n",
            "Epoch 17/20\n",
            "50000/50000 [==============================] - 1s 28us/sample - loss: 0.0153 - acc: 0.9973 - val_loss: 0.0766 - val_acc: 0.9790\n",
            "Epoch 18/20\n",
            "50000/50000 [==============================] - 1s 29us/sample - loss: 0.0131 - acc: 0.9979 - val_loss: 0.0771 - val_acc: 0.9795\n",
            "Epoch 19/20\n",
            "50000/50000 [==============================] - 1s 28us/sample - loss: 0.0119 - acc: 0.9980 - val_loss: 0.0803 - val_acc: 0.9779\n",
            "Epoch 20/20\n",
            "50000/50000 [==============================] - 1s 28us/sample - loss: 0.0104 - acc: 0.9984 - val_loss: 0.0792 - val_acc: 0.9784\n",
            "Test loss: 0.07317205191183603\n",
            "Test accuracy: 0.9793999791145325\n"
          ],
          "name": "stdout"
        }
      ]
    },
    {
      "cell_type": "code",
      "metadata": {
        "id": "EYaacnVOplle",
        "outputId": "09b9ed95-dcfa-4bfc-8b3e-a6cc82c90640",
        "colab": {
          "base_uri": "https://localhost:8080/",
          "height": 312
        }
      },
      "source": [
        "#Check for Overfitting\n",
        "\n",
        "plt.figure()\n",
        "plt.plot(history.history['loss'], 'blue')\n",
        "plt.plot(history.history['val_loss'], 'red')\n",
        "plt.legend(['Training loss', 'Validation Loss'])\n",
        "plt.xlabel('Epochs')\n",
        "plt.ylabel('Loss')\n",
        "plt.title('Loss Curves - before regularisation')"
      ],
      "execution_count": null,
      "outputs": [
        {
          "output_type": "execute_result",
          "data": {
            "text/plain": [
              "Text(0.5, 1.0, 'Loss Curves - before regularisation')"
            ]
          },
          "metadata": {
            "tags": []
          },
          "execution_count": 29
        },
        {
          "output_type": "display_data",
          "data": {
            "image/png": "[encoded data removed]",
            "text/plain": [
              "<Figure size 432x288 with 1 Axes>"
            ]
          },
          "metadata": {
            "tags": [],
            "needs_background": "light"
          }
        }
      ]
    },
    {
      "cell_type": "code",
      "metadata": {
        "id": "feon3dcvp4tv",
        "outputId": "5b267ef1-8af7-42fa-fe05-3a3d9947bf13",
        "colab": {
          "base_uri": "https://localhost:8080/",
          "height": 748
        }
      },
      "source": [
        "from tensorflow.keras.layers import Dropout\n",
        "reg_model = Sequential()\n",
        "reg_model.add(Dense(256, activation='relu', input_shape=(new_dimension,)))\n",
        "reg_model.add(Dropout(0.4))\n",
        "reg_model.add(Dense(128, activation='relu'))\n",
        "reg_model.add(Dropout(0.4))\n",
        "reg_model.add(Dense(no_labels, activation='softmax'))\n",
        "\n",
        "reg_model.compile(optimizer='adam', loss=tf.keras.losses.categorical_crossentropy, \n",
        "              metrics=['accuracy'])\n",
        "\n",
        "reg_history = reg_model.fit(x_train, y_train, validation_data=(x_val, y_val), \n",
        "                            epochs=20, batch_size=1000)\n",
        "test_loss, test_accuracy = reg_model.evaluate(test_images, y_test)\n",
        "print('Test loss: {}'.format(test_loss))\n",
        "print('Test accuracy: {}'.format(test_accuracy))\n"
      ],
      "execution_count": null,
      "outputs": [
        {
          "output_type": "stream",
          "text": [
            "Train on 50000 samples, validate on 10000 samples\n",
            "Epoch 1/20\n",
            "50000/50000 [==============================] - 2s 34us/sample - loss: 0.9592 - acc: 0.6966 - val_loss: 0.2918 - val_acc: 0.9166\n",
            "Epoch 2/20\n",
            "50000/50000 [==============================] - 2s 34us/sample - loss: 0.3727 - acc: 0.8896 - val_loss: 0.1968 - val_acc: 0.9437\n",
            "Epoch 3/20\n",
            "50000/50000 [==============================] - 2s 34us/sample - loss: 0.2817 - acc: 0.9180 - val_loss: 0.1608 - val_acc: 0.9535\n",
            "Epoch 4/20\n",
            "50000/50000 [==============================] - 2s 34us/sample - loss: 0.2291 - acc: 0.9325 - val_loss: 0.1361 - val_acc: 0.9608\n",
            "Epoch 5/20\n",
            "50000/50000 [==============================] - 2s 33us/sample - loss: 0.1974 - acc: 0.9410 - val_loss: 0.1199 - val_acc: 0.9648\n",
            "Epoch 6/20\n",
            "50000/50000 [==============================] - 2s 34us/sample - loss: 0.1725 - acc: 0.9489 - val_loss: 0.1093 - val_acc: 0.9688\n",
            "Epoch 7/20\n",
            "50000/50000 [==============================] - 2s 34us/sample - loss: 0.1575 - acc: 0.9526 - val_loss: 0.1042 - val_acc: 0.9705\n",
            "Epoch 8/20\n",
            "50000/50000 [==============================] - 2s 34us/sample - loss: 0.1444 - acc: 0.9573 - val_loss: 0.0961 - val_acc: 0.9714\n",
            "Epoch 9/20\n",
            "50000/50000 [==============================] - 2s 34us/sample - loss: 0.1277 - acc: 0.9614 - val_loss: 0.0947 - val_acc: 0.9721\n",
            "Epoch 10/20\n",
            "50000/50000 [==============================] - 2s 34us/sample - loss: 0.1239 - acc: 0.9628 - val_loss: 0.0883 - val_acc: 0.9743\n",
            "Epoch 11/20\n",
            "50000/50000 [==============================] - 2s 34us/sample - loss: 0.1160 - acc: 0.9654 - val_loss: 0.0851 - val_acc: 0.9752\n",
            "Epoch 12/20\n",
            "50000/50000 [==============================] - 2s 34us/sample - loss: 0.1046 - acc: 0.9684 - val_loss: 0.0825 - val_acc: 0.9756\n",
            "Epoch 13/20\n",
            "50000/50000 [==============================] - 2s 33us/sample - loss: 0.0989 - acc: 0.9704 - val_loss: 0.0824 - val_acc: 0.9760\n",
            "Epoch 14/20\n",
            "50000/50000 [==============================] - 2s 34us/sample - loss: 0.0927 - acc: 0.9714 - val_loss: 0.0808 - val_acc: 0.9769\n",
            "Epoch 15/20\n",
            "50000/50000 [==============================] - 2s 34us/sample - loss: 0.0884 - acc: 0.9732 - val_loss: 0.0785 - val_acc: 0.9769\n",
            "Epoch 16/20\n",
            "50000/50000 [==============================] - 2s 35us/sample - loss: 0.0809 - acc: 0.9754 - val_loss: 0.0786 - val_acc: 0.9764\n",
            "Epoch 17/20\n",
            "50000/50000 [==============================] - 2s 34us/sample - loss: 0.0786 - acc: 0.9766 - val_loss: 0.0746 - val_acc: 0.9781\n",
            "Epoch 18/20\n",
            "50000/50000 [==============================] - 2s 35us/sample - loss: 0.0769 - acc: 0.9767 - val_loss: 0.0745 - val_acc: 0.9791\n",
            "Epoch 19/20\n",
            "50000/50000 [==============================] - 2s 35us/sample - loss: 0.0721 - acc: 0.9773 - val_loss: 0.0725 - val_acc: 0.9786\n",
            "Epoch 20/20\n",
            "50000/50000 [==============================] - 2s 35us/sample - loss: 0.0684 - acc: 0.9781 - val_loss: 0.0747 - val_acc: 0.9788\n",
            "Test loss: 0.07085466257409426\n",
            "Test accuracy: 0.9793999791145325\n"
          ],
          "name": "stdout"
        }
      ]
    },
    {
      "cell_type": "code",
      "metadata": {
        "id": "Iy2J94ipqJOi",
        "outputId": "fba68306-4cac-4c58-e3eb-e05a0ae434a7",
        "colab": {
          "base_uri": "https://localhost:8080/",
          "height": 51
        }
      },
      "source": [
        "test_loss, test_accuracy = reg_model.evaluate(test_images, y_test)\n",
        "print('Test loss: {}'.format(test_loss))\n",
        "print('Test accuracy: {}'.format(test_accuracy))"
      ],
      "execution_count": null,
      "outputs": [
        {
          "output_type": "stream",
          "text": [
            "Test loss: 0.07085466257409426\n",
            "Test accuracy: 0.9793999791145325\n"
          ],
          "name": "stdout"
        }
      ]
    },
    {
      "cell_type": "code",
      "metadata": {
        "id": "9_AFDWa4qeTu",
        "outputId": "cef3c8cf-95b7-4145-d5d2-0fda1c0abc8a",
        "colab": {
          "base_uri": "https://localhost:8080/",
          "height": 312
        }
      },
      "source": [
        "plt.figure()\n",
        "plt.plot(reg_history.history['loss'], 'blue')\n",
        "plt.plot(reg_history.history['val_loss'], 'red')\n",
        "plt.legend(['Training loss', 'Validation Loss'])\n",
        "plt.xlabel('Epochs')\n",
        "plt.ylabel('Loss')\n",
        "plt.title('Loss Curves - after regularisation')"
      ],
      "execution_count": null,
      "outputs": [
        {
          "output_type": "execute_result",
          "data": {
            "text/plain": [
              "Text(0.5, 1.0, 'Loss Curves - after regularisation')"
            ]
          },
          "metadata": {
            "tags": []
          },
          "execution_count": 32
        },
        {
          "output_type": "display_data",
          "data": {
            "image/png": "[encoded data removed]",
            "text/plain": [
              "<Figure size 432x288 with 1 Axes>"
            ]
          },
          "metadata": {
            "tags": [],
            "needs_background": "light"
          }
        }
      ]
    },
    {
      "cell_type": "markdown",
      "metadata": {
        "id": "NoguXmrTrNXa"
      },
      "source": [
        "**Making Predictions**\n",
        "\n",
        "I added this just for more clarity and understanding. Let's use our model to predict some images and labels."
      ]
    },
    {
      "cell_type": "code",
      "metadata": {
        "id": "N8qTZBWiqxN5",
        "outputId": "920eba26-5699-4b8f-80bc-572d23a2041c",
        "colab": {
          "base_uri": "https://localhost:8080/",
          "height": 34
        }
      },
      "source": [
        "predictions = model.predict([test_images]) # Make prediction\n",
        "print(np.argmax(predictions[1000])) # Print out 9"
      ],
      "execution_count": null,
      "outputs": [
        {
          "output_type": "stream",
          "text": [
            "9\n"
          ],
          "name": "stdout"
        }
      ]
    },
    {
      "cell_type": "code",
      "metadata": {
        "id": "8ekoY7LlrWTy",
        "outputId": "f30a7821-38d0-4419-a897-80eb149f34fb",
        "colab": {
          "base_uri": "https://localhost:8080/",
          "height": 181
        }
      },
      "source": [
        "# Let's see whether the image would turn out to be 9\n",
        "# Remember that the input data to the network were flattened for the purpose of learning to a vector with a length of 784. Before displaying it, we need to convert it back to the size of 28 x 28 pixels.\n",
        "plt.figure(figsize=(8, 5))\n",
        "\n",
        "plt.subplot(1,3,1)\n",
        "plt.imshow(test_images[1000].reshape(28,28), cmap=\"gray\") # Import the image\n",
        "plt.show() # Show the image\n"
      ],
      "execution_count": null,
      "outputs": [
        {
          "output_type": "display_data",
          "data": {
            "image/png": "[encoded data removed]",
            "text/plain": [
              "<Figure size 576x360 with 1 Axes>"
            ]
          },
          "metadata": {
            "tags": [],
            "needs_background": "light"
          }
        }
      ]
    },
    {
      "cell_type": "code",
      "metadata": {
        "id": "HJlDC9QprdiU",
        "outputId": "1e80d55b-9f61-46e8-bddd-23e57f8febcf",
        "colab": {
          "base_uri": "https://localhost:8080/",
          "height": 34
        }
      },
      "source": [
        "# You can try out others and play around with them\n",
        "predictions = model.predict([test_images]) # Make prediction\n",
        "print(np.argmax(predictions[6700])) # Print out the number"
      ],
      "execution_count": null,
      "outputs": [
        {
          "output_type": "stream",
          "text": [
            "4\n"
          ],
          "name": "stdout"
        }
      ]
    },
    {
      "cell_type": "code",
      "metadata": {
        "id": "PPn-5JpVrwjD",
        "outputId": "d775c8b0-6dd4-497f-9dfa-b89d14e0bb3a",
        "colab": {
          "base_uri": "https://localhost:8080/",
          "height": 181
        }
      },
      "source": [
        "plt.figure(figsize=(8, 5))\n",
        "\n",
        "plt.subplot(1,3,1)\n",
        "plt.imshow(test_images[6700].reshape(28,28), cmap=\"gray\") # Import the image\n",
        "plt.show() # Show the image"
      ],
      "execution_count": null,
      "outputs": [
        {
          "output_type": "display_data",
          "data": {
            "image/png": "[encoded data removed]",
            "text/plain": [
              "<Figure size 576x360 with 1 Axes>"
            ]
          },
          "metadata": {
            "tags": [],
            "needs_background": "light"
          }
        }
      ]
    },
    {
      "cell_type": "code",
      "metadata": {
        "id": "hpsdu8jEr3hr"
      },
      "source": [
        ""
      ],
      "execution_count": null,
      "outputs": []
    }
  ]
}